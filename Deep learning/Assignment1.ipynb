{
 "cells": [
  {
   "cell_type": "markdown",
   "metadata": {},
   "source": [
    "# Lending Club Loan Data Analysis"
   ]
  },
  {
   "cell_type": "markdown",
   "metadata": {},
   "source": [
    "DESCRIPTION\n",
    "\n",
    "Create a model that predicts whether or not a loan will be default using the historical data.\n",
    "\n",
    "Problem Statement:  \n",
    "\n",
    "For companies like Lending Club correctly predicting whether or not a loan will be a default is very important. In this project, using the historical data from 2007 to 2015, you have to build a deep learning model to predict the chance of default for future loans. As you will see later this dataset is highly imbalanced and includes a lot of features that makes this problem more challenging.DESCRIPTION\n",
    "\n",
    "Create a model that predicts whether or not a loan will be default using the historical data.\n",
    "\n",
    " \n",
    "\n",
    "Problem Statement:  \n",
    "\n",
    "For companies like Lending Club correctly predicting whether or not a loan will be a default is very important. In this project, using the historical data from 2007 to 2015, you have to build a deep learning model to predict the chance of default for future loans. As you will see later this dataset is highly imbalanced and includes a lot of features that makes this problem more challenging."
   ]
  },
  {
   "cell_type": "markdown",
   "metadata": {},
   "source": [
    "Domain: Finance\n",
    "\n",
    "Analysis to be done: Perform data preprocessing and build a deep learning prediction model. \n",
    "\n",
    "Content: \n",
    "\n",
    "Dataset columns and definition:\n",
    "\n",
    " \n",
    "\n",
    "credit.policy: 1 if the customer meets the credit underwriting criteria of LendingClub.com, and 0 otherwise.\n",
    "\n",
    "purpose: The purpose of the loan (takes values \"credit_card\", \"debt_consolidation\", \"educational\", \"major_purchase\", \"small_business\", and \"all_other\").\n",
    "\n",
    "int.rate: The interest rate of the loan, as a proportion (a rate of 11% would be stored as 0.11). Borrowers judged by LendingClub.com to be more risky are assigned higher interest rates.\n",
    "\n",
    "installment: The monthly installments owed by the borrower if the loan is funded.\n",
    "\n",
    "log.annual.inc: The natural log of the self-reported annual income of the borrower.\n",
    "\n",
    "dti: The debt-to-income ratio of the borrower (amount of debt divided by annual income).\n",
    "\n",
    "fico: The FICO credit score of the borrower.\n",
    "\n",
    "days.with.cr.line: The number of days the borrower has had a credit line.\n",
    "\n",
    "revol.bal: The borrower's revolving balance (amount unpaid at the end of the credit card billing cycle).\n",
    "\n",
    "revol.util: The borrower's revolving line utilization rate (the amount of the credit line used relative to total credit available).\n",
    "\n",
    "inq.last.6mths: The borrower's number of inquiries by creditors in the last 6 months.\n",
    "\n",
    "delinq.2yrs: The number of times the borrower had been 30+ days past due on a payment in the past 2 years.\n",
    "\n",
    "pub.rec: The borrower's number of derogatory public records (bankruptcy filings, tax liens, or judgments).\n",
    "\n",
    " \n",
    "\n",
    "Steps to perform:\n",
    "\n",
    "Perform exploratory data analysis and feature engineering and then apply feature engineering. Follow up with a deep learning model to predict whether or not the loan will be default using the historical data.\n",
    "\n",
    " \n",
    "\n",
    "Tasks:\n",
    "\n",
    "1.     Feature Transformation\n",
    "\n",
    "Transform categorical values into numerical values (discrete)\n",
    "\n",
    "2.     Exploratory data analysis of different factors of the dataset.\n",
    "\n",
    "3.     Additional Feature Engineering\n",
    "\n",
    "You will check the correlation between features and will drop those features which have a strong correlation\n",
    "\n",
    "This will help reduce the number of features and will leave you with the most relevant features\n",
    "\n",
    "4.     Modeling\n",
    "\n",
    "After applying EDA and feature engineering, you are now ready to build the predictive models\n",
    "\n",
    "In this part, you will create a deep learning model using Keras with Tensorflow backend"
   ]
  },
  {
   "cell_type": "code",
   "execution_count": 76,
   "metadata": {},
   "outputs": [],
   "source": [
    "import pandas as pd\n",
    "import matplotlib.pyplot as plt\n",
    "import numpy as np"
   ]
  },
  {
   "cell_type": "code",
   "execution_count": 77,
   "metadata": {},
   "outputs": [],
   "source": [
    "df = pd.read_csv('./resources/loan_data.csv')"
   ]
  },
  {
   "cell_type": "code",
   "execution_count": 78,
   "metadata": {},
   "outputs": [
    {
     "name": "stdout",
     "output_type": "stream",
     "text": [
      "<class 'pandas.core.frame.DataFrame'>\n",
      "RangeIndex: 9578 entries, 0 to 9577\n",
      "Data columns (total 14 columns):\n",
      " #   Column             Non-Null Count  Dtype  \n",
      "---  ------             --------------  -----  \n",
      " 0   credit.policy      9578 non-null   int64  \n",
      " 1   purpose            9578 non-null   object \n",
      " 2   int.rate           9578 non-null   float64\n",
      " 3   installment        9578 non-null   float64\n",
      " 4   log.annual.inc     9578 non-null   float64\n",
      " 5   dti                9578 non-null   float64\n",
      " 6   fico               9578 non-null   int64  \n",
      " 7   days.with.cr.line  9578 non-null   float64\n",
      " 8   revol.bal          9578 non-null   int64  \n",
      " 9   revol.util         9578 non-null   float64\n",
      " 10  inq.last.6mths     9578 non-null   int64  \n",
      " 11  delinq.2yrs        9578 non-null   int64  \n",
      " 12  pub.rec            9578 non-null   int64  \n",
      " 13  not.fully.paid     9578 non-null   int64  \n",
      "dtypes: float64(6), int64(7), object(1)\n",
      "memory usage: 1.0+ MB\n"
     ]
    }
   ],
   "source": [
    "df.info()"
   ]
  },
  {
   "cell_type": "code",
   "execution_count": 79,
   "metadata": {},
   "outputs": [
    {
     "data": {
      "text/html": [
       "<div>\n",
       "<style scoped>\n",
       "    .dataframe tbody tr th:only-of-type {\n",
       "        vertical-align: middle;\n",
       "    }\n",
       "\n",
       "    .dataframe tbody tr th {\n",
       "        vertical-align: top;\n",
       "    }\n",
       "\n",
       "    .dataframe thead th {\n",
       "        text-align: right;\n",
       "    }\n",
       "</style>\n",
       "<table border=\"1\" class=\"dataframe\">\n",
       "  <thead>\n",
       "    <tr style=\"text-align: right;\">\n",
       "      <th></th>\n",
       "      <th>credit.policy</th>\n",
       "      <th>int.rate</th>\n",
       "      <th>installment</th>\n",
       "      <th>log.annual.inc</th>\n",
       "      <th>dti</th>\n",
       "      <th>fico</th>\n",
       "      <th>days.with.cr.line</th>\n",
       "      <th>revol.bal</th>\n",
       "      <th>revol.util</th>\n",
       "      <th>inq.last.6mths</th>\n",
       "      <th>delinq.2yrs</th>\n",
       "      <th>pub.rec</th>\n",
       "      <th>not.fully.paid</th>\n",
       "    </tr>\n",
       "  </thead>\n",
       "  <tbody>\n",
       "    <tr>\n",
       "      <th>count</th>\n",
       "      <td>9578.000000</td>\n",
       "      <td>9578.000000</td>\n",
       "      <td>9578.000000</td>\n",
       "      <td>9578.000000</td>\n",
       "      <td>9578.000000</td>\n",
       "      <td>9578.000000</td>\n",
       "      <td>9578.000000</td>\n",
       "      <td>9.578000e+03</td>\n",
       "      <td>9578.000000</td>\n",
       "      <td>9578.000000</td>\n",
       "      <td>9578.000000</td>\n",
       "      <td>9578.000000</td>\n",
       "      <td>9578.000000</td>\n",
       "    </tr>\n",
       "    <tr>\n",
       "      <th>mean</th>\n",
       "      <td>0.804970</td>\n",
       "      <td>0.122640</td>\n",
       "      <td>319.089413</td>\n",
       "      <td>10.932117</td>\n",
       "      <td>12.606679</td>\n",
       "      <td>710.846314</td>\n",
       "      <td>4560.767197</td>\n",
       "      <td>1.691396e+04</td>\n",
       "      <td>46.799236</td>\n",
       "      <td>1.577469</td>\n",
       "      <td>0.163708</td>\n",
       "      <td>0.062122</td>\n",
       "      <td>0.160054</td>\n",
       "    </tr>\n",
       "    <tr>\n",
       "      <th>std</th>\n",
       "      <td>0.396245</td>\n",
       "      <td>0.026847</td>\n",
       "      <td>207.071301</td>\n",
       "      <td>0.614813</td>\n",
       "      <td>6.883970</td>\n",
       "      <td>37.970537</td>\n",
       "      <td>2496.930377</td>\n",
       "      <td>3.375619e+04</td>\n",
       "      <td>29.014417</td>\n",
       "      <td>2.200245</td>\n",
       "      <td>0.546215</td>\n",
       "      <td>0.262126</td>\n",
       "      <td>0.366676</td>\n",
       "    </tr>\n",
       "    <tr>\n",
       "      <th>min</th>\n",
       "      <td>0.000000</td>\n",
       "      <td>0.060000</td>\n",
       "      <td>15.670000</td>\n",
       "      <td>7.547502</td>\n",
       "      <td>0.000000</td>\n",
       "      <td>612.000000</td>\n",
       "      <td>178.958333</td>\n",
       "      <td>0.000000e+00</td>\n",
       "      <td>0.000000</td>\n",
       "      <td>0.000000</td>\n",
       "      <td>0.000000</td>\n",
       "      <td>0.000000</td>\n",
       "      <td>0.000000</td>\n",
       "    </tr>\n",
       "    <tr>\n",
       "      <th>25%</th>\n",
       "      <td>1.000000</td>\n",
       "      <td>0.103900</td>\n",
       "      <td>163.770000</td>\n",
       "      <td>10.558414</td>\n",
       "      <td>7.212500</td>\n",
       "      <td>682.000000</td>\n",
       "      <td>2820.000000</td>\n",
       "      <td>3.187000e+03</td>\n",
       "      <td>22.600000</td>\n",
       "      <td>0.000000</td>\n",
       "      <td>0.000000</td>\n",
       "      <td>0.000000</td>\n",
       "      <td>0.000000</td>\n",
       "    </tr>\n",
       "    <tr>\n",
       "      <th>50%</th>\n",
       "      <td>1.000000</td>\n",
       "      <td>0.122100</td>\n",
       "      <td>268.950000</td>\n",
       "      <td>10.928884</td>\n",
       "      <td>12.665000</td>\n",
       "      <td>707.000000</td>\n",
       "      <td>4139.958333</td>\n",
       "      <td>8.596000e+03</td>\n",
       "      <td>46.300000</td>\n",
       "      <td>1.000000</td>\n",
       "      <td>0.000000</td>\n",
       "      <td>0.000000</td>\n",
       "      <td>0.000000</td>\n",
       "    </tr>\n",
       "    <tr>\n",
       "      <th>75%</th>\n",
       "      <td>1.000000</td>\n",
       "      <td>0.140700</td>\n",
       "      <td>432.762500</td>\n",
       "      <td>11.291293</td>\n",
       "      <td>17.950000</td>\n",
       "      <td>737.000000</td>\n",
       "      <td>5730.000000</td>\n",
       "      <td>1.824950e+04</td>\n",
       "      <td>70.900000</td>\n",
       "      <td>2.000000</td>\n",
       "      <td>0.000000</td>\n",
       "      <td>0.000000</td>\n",
       "      <td>0.000000</td>\n",
       "    </tr>\n",
       "    <tr>\n",
       "      <th>max</th>\n",
       "      <td>1.000000</td>\n",
       "      <td>0.216400</td>\n",
       "      <td>940.140000</td>\n",
       "      <td>14.528354</td>\n",
       "      <td>29.960000</td>\n",
       "      <td>827.000000</td>\n",
       "      <td>17639.958330</td>\n",
       "      <td>1.207359e+06</td>\n",
       "      <td>119.000000</td>\n",
       "      <td>33.000000</td>\n",
       "      <td>13.000000</td>\n",
       "      <td>5.000000</td>\n",
       "      <td>1.000000</td>\n",
       "    </tr>\n",
       "  </tbody>\n",
       "</table>\n",
       "</div>"
      ],
      "text/plain": [
       "       credit.policy     int.rate  installment  log.annual.inc          dti  \\\n",
       "count    9578.000000  9578.000000  9578.000000     9578.000000  9578.000000   \n",
       "mean        0.804970     0.122640   319.089413       10.932117    12.606679   \n",
       "std         0.396245     0.026847   207.071301        0.614813     6.883970   \n",
       "min         0.000000     0.060000    15.670000        7.547502     0.000000   \n",
       "25%         1.000000     0.103900   163.770000       10.558414     7.212500   \n",
       "50%         1.000000     0.122100   268.950000       10.928884    12.665000   \n",
       "75%         1.000000     0.140700   432.762500       11.291293    17.950000   \n",
       "max         1.000000     0.216400   940.140000       14.528354    29.960000   \n",
       "\n",
       "              fico  days.with.cr.line     revol.bal   revol.util  \\\n",
       "count  9578.000000        9578.000000  9.578000e+03  9578.000000   \n",
       "mean    710.846314        4560.767197  1.691396e+04    46.799236   \n",
       "std      37.970537        2496.930377  3.375619e+04    29.014417   \n",
       "min     612.000000         178.958333  0.000000e+00     0.000000   \n",
       "25%     682.000000        2820.000000  3.187000e+03    22.600000   \n",
       "50%     707.000000        4139.958333  8.596000e+03    46.300000   \n",
       "75%     737.000000        5730.000000  1.824950e+04    70.900000   \n",
       "max     827.000000       17639.958330  1.207359e+06   119.000000   \n",
       "\n",
       "       inq.last.6mths  delinq.2yrs      pub.rec  not.fully.paid  \n",
       "count     9578.000000  9578.000000  9578.000000     9578.000000  \n",
       "mean         1.577469     0.163708     0.062122        0.160054  \n",
       "std          2.200245     0.546215     0.262126        0.366676  \n",
       "min          0.000000     0.000000     0.000000        0.000000  \n",
       "25%          0.000000     0.000000     0.000000        0.000000  \n",
       "50%          1.000000     0.000000     0.000000        0.000000  \n",
       "75%          2.000000     0.000000     0.000000        0.000000  \n",
       "max         33.000000    13.000000     5.000000        1.000000  "
      ]
     },
     "execution_count": 79,
     "metadata": {},
     "output_type": "execute_result"
    }
   ],
   "source": [
    "df.describe()"
   ]
  },
  {
   "cell_type": "code",
   "execution_count": 80,
   "metadata": {},
   "outputs": [
    {
     "data": {
      "text/html": [
       "<div>\n",
       "<style scoped>\n",
       "    .dataframe tbody tr th:only-of-type {\n",
       "        vertical-align: middle;\n",
       "    }\n",
       "\n",
       "    .dataframe tbody tr th {\n",
       "        vertical-align: top;\n",
       "    }\n",
       "\n",
       "    .dataframe thead th {\n",
       "        text-align: right;\n",
       "    }\n",
       "</style>\n",
       "<table border=\"1\" class=\"dataframe\">\n",
       "  <thead>\n",
       "    <tr style=\"text-align: right;\">\n",
       "      <th></th>\n",
       "      <th>credit.policy</th>\n",
       "      <th>purpose</th>\n",
       "      <th>int.rate</th>\n",
       "      <th>installment</th>\n",
       "      <th>log.annual.inc</th>\n",
       "      <th>dti</th>\n",
       "      <th>fico</th>\n",
       "      <th>days.with.cr.line</th>\n",
       "      <th>revol.bal</th>\n",
       "      <th>revol.util</th>\n",
       "      <th>inq.last.6mths</th>\n",
       "      <th>delinq.2yrs</th>\n",
       "      <th>pub.rec</th>\n",
       "      <th>not.fully.paid</th>\n",
       "    </tr>\n",
       "  </thead>\n",
       "  <tbody>\n",
       "    <tr>\n",
       "      <th>0</th>\n",
       "      <td>1</td>\n",
       "      <td>debt_consolidation</td>\n",
       "      <td>0.1189</td>\n",
       "      <td>829.10</td>\n",
       "      <td>11.350407</td>\n",
       "      <td>19.48</td>\n",
       "      <td>737</td>\n",
       "      <td>5639.958333</td>\n",
       "      <td>28854</td>\n",
       "      <td>52.1</td>\n",
       "      <td>0</td>\n",
       "      <td>0</td>\n",
       "      <td>0</td>\n",
       "      <td>0</td>\n",
       "    </tr>\n",
       "    <tr>\n",
       "      <th>1</th>\n",
       "      <td>1</td>\n",
       "      <td>credit_card</td>\n",
       "      <td>0.1071</td>\n",
       "      <td>228.22</td>\n",
       "      <td>11.082143</td>\n",
       "      <td>14.29</td>\n",
       "      <td>707</td>\n",
       "      <td>2760.000000</td>\n",
       "      <td>33623</td>\n",
       "      <td>76.7</td>\n",
       "      <td>0</td>\n",
       "      <td>0</td>\n",
       "      <td>0</td>\n",
       "      <td>0</td>\n",
       "    </tr>\n",
       "    <tr>\n",
       "      <th>2</th>\n",
       "      <td>1</td>\n",
       "      <td>debt_consolidation</td>\n",
       "      <td>0.1357</td>\n",
       "      <td>366.86</td>\n",
       "      <td>10.373491</td>\n",
       "      <td>11.63</td>\n",
       "      <td>682</td>\n",
       "      <td>4710.000000</td>\n",
       "      <td>3511</td>\n",
       "      <td>25.6</td>\n",
       "      <td>1</td>\n",
       "      <td>0</td>\n",
       "      <td>0</td>\n",
       "      <td>0</td>\n",
       "    </tr>\n",
       "    <tr>\n",
       "      <th>3</th>\n",
       "      <td>1</td>\n",
       "      <td>debt_consolidation</td>\n",
       "      <td>0.1008</td>\n",
       "      <td>162.34</td>\n",
       "      <td>11.350407</td>\n",
       "      <td>8.10</td>\n",
       "      <td>712</td>\n",
       "      <td>2699.958333</td>\n",
       "      <td>33667</td>\n",
       "      <td>73.2</td>\n",
       "      <td>1</td>\n",
       "      <td>0</td>\n",
       "      <td>0</td>\n",
       "      <td>0</td>\n",
       "    </tr>\n",
       "    <tr>\n",
       "      <th>4</th>\n",
       "      <td>1</td>\n",
       "      <td>credit_card</td>\n",
       "      <td>0.1426</td>\n",
       "      <td>102.92</td>\n",
       "      <td>11.299732</td>\n",
       "      <td>14.97</td>\n",
       "      <td>667</td>\n",
       "      <td>4066.000000</td>\n",
       "      <td>4740</td>\n",
       "      <td>39.5</td>\n",
       "      <td>0</td>\n",
       "      <td>1</td>\n",
       "      <td>0</td>\n",
       "      <td>0</td>\n",
       "    </tr>\n",
       "  </tbody>\n",
       "</table>\n",
       "</div>"
      ],
      "text/plain": [
       "   credit.policy             purpose  int.rate  installment  log.annual.inc  \\\n",
       "0              1  debt_consolidation    0.1189       829.10       11.350407   \n",
       "1              1         credit_card    0.1071       228.22       11.082143   \n",
       "2              1  debt_consolidation    0.1357       366.86       10.373491   \n",
       "3              1  debt_consolidation    0.1008       162.34       11.350407   \n",
       "4              1         credit_card    0.1426       102.92       11.299732   \n",
       "\n",
       "     dti  fico  days.with.cr.line  revol.bal  revol.util  inq.last.6mths  \\\n",
       "0  19.48   737        5639.958333      28854        52.1               0   \n",
       "1  14.29   707        2760.000000      33623        76.7               0   \n",
       "2  11.63   682        4710.000000       3511        25.6               1   \n",
       "3   8.10   712        2699.958333      33667        73.2               1   \n",
       "4  14.97   667        4066.000000       4740        39.5               0   \n",
       "\n",
       "   delinq.2yrs  pub.rec  not.fully.paid  \n",
       "0            0        0               0  \n",
       "1            0        0               0  \n",
       "2            0        0               0  \n",
       "3            0        0               0  \n",
       "4            1        0               0  "
      ]
     },
     "execution_count": 80,
     "metadata": {},
     "output_type": "execute_result"
    }
   ],
   "source": [
    "df.head()"
   ]
  },
  {
   "cell_type": "code",
   "execution_count": 81,
   "metadata": {},
   "outputs": [],
   "source": [
    "# check for null values\n",
    "assert(df.isnull().sum().sum()==0)"
   ]
  },
  {
   "cell_type": "code",
   "execution_count": 82,
   "metadata": {},
   "outputs": [
    {
     "data": {
      "text/plain": [
       "0    8045\n",
       "1    1533\n",
       "Name: not.fully.paid, dtype: int64"
      ]
     },
     "execution_count": 82,
     "metadata": {},
     "output_type": "execute_result"
    }
   ],
   "source": [
    "df['not.fully.paid'].value_counts()"
   ]
  },
  {
   "cell_type": "markdown",
   "metadata": {},
   "source": [
    "## EDA"
   ]
  },
  {
   "cell_type": "code",
   "execution_count": 83,
   "metadata": {},
   "outputs": [],
   "source": [
    "import seaborn as sns"
   ]
  },
  {
   "cell_type": "code",
   "execution_count": 84,
   "metadata": {},
   "outputs": [
    {
     "name": "stderr",
     "output_type": "stream",
     "text": [
      "c:\\Users\\of6cef\\AppData\\Local\\Programs\\Python\\Python310\\lib\\site-packages\\seaborn\\_decorators.py:36: FutureWarning: Pass the following variable as a keyword arg: x. From version 0.12, the only valid positional argument will be `data`, and passing other arguments without an explicit keyword will result in an error or misinterpretation.\n",
      "  warnings.warn(\n"
     ]
    },
    {
     "data": {
      "image/png": "[encoded data removed]",
      "text/plain": [
       "<Figure size 432x288 with 1 Axes>"
      ]
     },
     "metadata": {
      "needs_background": "light"
     },
     "output_type": "display_data"
    }
   ],
   "source": [
    "sns.countplot(df['not.fully.paid'])\n",
    "plt.show()"
   ]
  },
  {
   "cell_type": "code",
   "execution_count": 85,
   "metadata": {},
   "outputs": [
    {
     "data": {
      "image/png": "[encoded data removed]",
      "text/plain": [
       "<Figure size 1800x576 with 1 Axes>"
      ]
     },
     "metadata": {
      "needs_background": "light"
     },
     "output_type": "display_data"
    }
   ],
   "source": [
    "plt.figure(figsize=(25,8))\n",
    "sns.countplot(x='purpose', hue='not.fully.paid', data=df)\n",
    "plt.show()"
   ]
  },
  {
   "cell_type": "code",
   "execution_count": 86,
   "metadata": {},
   "outputs": [
    {
     "data": {
      "text/plain": [
       "<Figure size 1800x576 with 0 Axes>"
      ]
     },
     "metadata": {},
     "output_type": "display_data"
    },
    {
     "data": {
      "image/png": "[encoded data removed]",
      "text/plain": [
       "<Figure size 432x432 with 3 Axes>"
      ]
     },
     "metadata": {
      "needs_background": "light"
     },
     "output_type": "display_data"
    }
   ],
   "source": [
    "plt.figure(figsize=(25,8))\n",
    "sns.jointplot(x='fico', y='int.rate', data=df)\n",
    "plt.show()"
   ]
  },
  {
   "cell_type": "markdown",
   "metadata": {},
   "source": [
    "### handle imbalanced data"
   ]
  },
  {
   "cell_type": "code",
   "execution_count": 87,
   "metadata": {},
   "outputs": [],
   "source": [
    "not_fully_paid_0 = df[df['not.fully.paid'] == 0]\n",
    "not_fully_paid_1 = df[df['not.fully.paid'] == 1]"
   ]
  },
  {
   "cell_type": "code",
   "execution_count": 88,
   "metadata": {},
   "outputs": [],
   "source": [
    "# resample\n",
    "from sklearn.utils import resample\n",
    "df_minor_upsampled=resample(not_fully_paid_1,replace=True,n_samples=8045)\n",
    "new_df=pd.concat([not_fully_paid_0,df_minor_upsampled])\n",
    "from sklearn.utils import shuffle\n",
    "new_df=shuffle(new_df)"
   ]
  },
  {
   "cell_type": "code",
   "execution_count": 89,
   "metadata": {},
   "outputs": [
    {
     "data": {
      "text/plain": [
       "0    8045\n",
       "1    8045\n",
       "Name: not.fully.paid, dtype: int64"
      ]
     },
     "execution_count": 89,
     "metadata": {},
     "output_type": "execute_result"
    }
   ],
   "source": [
    "new_df['not.fully.paid'].value_counts()"
   ]
  },
  {
   "cell_type": "code",
   "execution_count": 90,
   "metadata": {},
   "outputs": [],
   "source": [
    "from sklearn.preprocessing import LabelEncoder\n",
    "le = LabelEncoder()\n",
    "\n",
    "for i in new_df.columns:\n",
    "  if new_df[i].dtypes=='object':\n",
    "    new_df[i]=le.fit_transform(new_df[i])"
   ]
  },
  {
   "cell_type": "code",
   "execution_count": 91,
   "metadata": {},
   "outputs": [
    {
     "data": {
      "text/html": [
       "<div>\n",
       "<style scoped>\n",
       "    .dataframe tbody tr th:only-of-type {\n",
       "        vertical-align: middle;\n",
       "    }\n",
       "\n",
       "    .dataframe tbody tr th {\n",
       "        vertical-align: top;\n",
       "    }\n",
       "\n",
       "    .dataframe thead th {\n",
       "        text-align: right;\n",
       "    }\n",
       "</style>\n",
       "<table border=\"1\" class=\"dataframe\">\n",
       "  <thead>\n",
       "    <tr style=\"text-align: right;\">\n",
       "      <th></th>\n",
       "      <th>credit.policy</th>\n",
       "      <th>purpose</th>\n",
       "      <th>int.rate</th>\n",
       "      <th>installment</th>\n",
       "      <th>log.annual.inc</th>\n",
       "      <th>dti</th>\n",
       "      <th>fico</th>\n",
       "      <th>days.with.cr.line</th>\n",
       "      <th>revol.bal</th>\n",
       "      <th>revol.util</th>\n",
       "      <th>inq.last.6mths</th>\n",
       "      <th>delinq.2yrs</th>\n",
       "      <th>pub.rec</th>\n",
       "      <th>not.fully.paid</th>\n",
       "    </tr>\n",
       "  </thead>\n",
       "  <tbody>\n",
       "    <tr>\n",
       "      <th>1599</th>\n",
       "      <td>1</td>\n",
       "      <td>6</td>\n",
       "      <td>0.0768</td>\n",
       "      <td>93.57</td>\n",
       "      <td>11.225243</td>\n",
       "      <td>11.90</td>\n",
       "      <td>752</td>\n",
       "      <td>3210.000000</td>\n",
       "      <td>5263</td>\n",
       "      <td>48.7</td>\n",
       "      <td>0</td>\n",
       "      <td>0</td>\n",
       "      <td>0</td>\n",
       "      <td>0</td>\n",
       "    </tr>\n",
       "    <tr>\n",
       "      <th>6998</th>\n",
       "      <td>1</td>\n",
       "      <td>2</td>\n",
       "      <td>0.1183</td>\n",
       "      <td>447.31</td>\n",
       "      <td>10.548416</td>\n",
       "      <td>22.54</td>\n",
       "      <td>712</td>\n",
       "      <td>6000.041667</td>\n",
       "      <td>13813</td>\n",
       "      <td>52.7</td>\n",
       "      <td>0</td>\n",
       "      <td>0</td>\n",
       "      <td>0</td>\n",
       "      <td>0</td>\n",
       "    </tr>\n",
       "    <tr>\n",
       "      <th>341</th>\n",
       "      <td>1</td>\n",
       "      <td>6</td>\n",
       "      <td>0.1204</td>\n",
       "      <td>126.29</td>\n",
       "      <td>11.050890</td>\n",
       "      <td>12.50</td>\n",
       "      <td>667</td>\n",
       "      <td>3300.000000</td>\n",
       "      <td>29736</td>\n",
       "      <td>80.2</td>\n",
       "      <td>3</td>\n",
       "      <td>0</td>\n",
       "      <td>0</td>\n",
       "      <td>0</td>\n",
       "    </tr>\n",
       "    <tr>\n",
       "      <th>1512</th>\n",
       "      <td>1</td>\n",
       "      <td>0</td>\n",
       "      <td>0.1146</td>\n",
       "      <td>329.57</td>\n",
       "      <td>11.512925</td>\n",
       "      <td>4.43</td>\n",
       "      <td>707</td>\n",
       "      <td>2850.000000</td>\n",
       "      <td>13175</td>\n",
       "      <td>46.9</td>\n",
       "      <td>2</td>\n",
       "      <td>0</td>\n",
       "      <td>0</td>\n",
       "      <td>0</td>\n",
       "    </tr>\n",
       "    <tr>\n",
       "      <th>1840</th>\n",
       "      <td>1</td>\n",
       "      <td>6</td>\n",
       "      <td>0.0963</td>\n",
       "      <td>154.06</td>\n",
       "      <td>11.775259</td>\n",
       "      <td>7.38</td>\n",
       "      <td>727</td>\n",
       "      <td>5490.000000</td>\n",
       "      <td>27399</td>\n",
       "      <td>41.1</td>\n",
       "      <td>1</td>\n",
       "      <td>0</td>\n",
       "      <td>0</td>\n",
       "      <td>0</td>\n",
       "    </tr>\n",
       "    <tr>\n",
       "      <th>...</th>\n",
       "      <td>...</td>\n",
       "      <td>...</td>\n",
       "      <td>...</td>\n",
       "      <td>...</td>\n",
       "      <td>...</td>\n",
       "      <td>...</td>\n",
       "      <td>...</td>\n",
       "      <td>...</td>\n",
       "      <td>...</td>\n",
       "      <td>...</td>\n",
       "      <td>...</td>\n",
       "      <td>...</td>\n",
       "      <td>...</td>\n",
       "      <td>...</td>\n",
       "    </tr>\n",
       "    <tr>\n",
       "      <th>2711</th>\n",
       "      <td>1</td>\n",
       "      <td>1</td>\n",
       "      <td>0.0963</td>\n",
       "      <td>385.14</td>\n",
       "      <td>10.915670</td>\n",
       "      <td>21.17</td>\n",
       "      <td>757</td>\n",
       "      <td>10739.958330</td>\n",
       "      <td>25133</td>\n",
       "      <td>38.8</td>\n",
       "      <td>1</td>\n",
       "      <td>0</td>\n",
       "      <td>0</td>\n",
       "      <td>0</td>\n",
       "    </tr>\n",
       "    <tr>\n",
       "      <th>9469</th>\n",
       "      <td>0</td>\n",
       "      <td>0</td>\n",
       "      <td>0.1635</td>\n",
       "      <td>379.79</td>\n",
       "      <td>12.072541</td>\n",
       "      <td>17.74</td>\n",
       "      <td>722</td>\n",
       "      <td>5850.000000</td>\n",
       "      <td>71956</td>\n",
       "      <td>25.7</td>\n",
       "      <td>4</td>\n",
       "      <td>0</td>\n",
       "      <td>0</td>\n",
       "      <td>0</td>\n",
       "    </tr>\n",
       "    <tr>\n",
       "      <th>7189</th>\n",
       "      <td>1</td>\n",
       "      <td>2</td>\n",
       "      <td>0.1385</td>\n",
       "      <td>835.55</td>\n",
       "      <td>11.340950</td>\n",
       "      <td>21.72</td>\n",
       "      <td>712</td>\n",
       "      <td>5250.041667</td>\n",
       "      <td>33313</td>\n",
       "      <td>74.4</td>\n",
       "      <td>0</td>\n",
       "      <td>0</td>\n",
       "      <td>0</td>\n",
       "      <td>0</td>\n",
       "    </tr>\n",
       "    <tr>\n",
       "      <th>8706</th>\n",
       "      <td>0</td>\n",
       "      <td>0</td>\n",
       "      <td>0.1608</td>\n",
       "      <td>149.59</td>\n",
       "      <td>10.463218</td>\n",
       "      <td>26.36</td>\n",
       "      <td>667</td>\n",
       "      <td>6960.000000</td>\n",
       "      <td>6644</td>\n",
       "      <td>35.9</td>\n",
       "      <td>12</td>\n",
       "      <td>0</td>\n",
       "      <td>0</td>\n",
       "      <td>0</td>\n",
       "    </tr>\n",
       "    <tr>\n",
       "      <th>2814</th>\n",
       "      <td>1</td>\n",
       "      <td>4</td>\n",
       "      <td>0.0800</td>\n",
       "      <td>150.42</td>\n",
       "      <td>11.034890</td>\n",
       "      <td>1.20</td>\n",
       "      <td>787</td>\n",
       "      <td>6689.958333</td>\n",
       "      <td>3473</td>\n",
       "      <td>10.7</td>\n",
       "      <td>4</td>\n",
       "      <td>0</td>\n",
       "      <td>0</td>\n",
       "      <td>0</td>\n",
       "    </tr>\n",
       "  </tbody>\n",
       "</table>\n",
       "<p>16090 rows × 14 columns</p>\n",
       "</div>"
      ],
      "text/plain": [
       "      credit.policy  purpose  int.rate  installment  log.annual.inc    dti  \\\n",
       "1599              1        6    0.0768        93.57       11.225243  11.90   \n",
       "6998              1        2    0.1183       447.31       10.548416  22.54   \n",
       "341               1        6    0.1204       126.29       11.050890  12.50   \n",
       "1512              1        0    0.1146       329.57       11.512925   4.43   \n",
       "1840              1        6    0.0963       154.06       11.775259   7.38   \n",
       "...             ...      ...       ...          ...             ...    ...   \n",
       "2711              1        1    0.0963       385.14       10.915670  21.17   \n",
       "9469              0        0    0.1635       379.79       12.072541  17.74   \n",
       "7189              1        2    0.1385       835.55       11.340950  21.72   \n",
       "8706              0        0    0.1608       149.59       10.463218  26.36   \n",
       "2814              1        4    0.0800       150.42       11.034890   1.20   \n",
       "\n",
       "      fico  days.with.cr.line  revol.bal  revol.util  inq.last.6mths  \\\n",
       "1599   752        3210.000000       5263        48.7               0   \n",
       "6998   712        6000.041667      13813        52.7               0   \n",
       "341    667        3300.000000      29736        80.2               3   \n",
       "1512   707        2850.000000      13175        46.9               2   \n",
       "1840   727        5490.000000      27399        41.1               1   \n",
       "...    ...                ...        ...         ...             ...   \n",
       "2711   757       10739.958330      25133        38.8               1   \n",
       "9469   722        5850.000000      71956        25.7               4   \n",
       "7189   712        5250.041667      33313        74.4               0   \n",
       "8706   667        6960.000000       6644        35.9              12   \n",
       "2814   787        6689.958333       3473        10.7               4   \n",
       "\n",
       "      delinq.2yrs  pub.rec  not.fully.paid  \n",
       "1599            0        0               0  \n",
       "6998            0        0               0  \n",
       "341             0        0               0  \n",
       "1512            0        0               0  \n",
       "1840            0        0               0  \n",
       "...           ...      ...             ...  \n",
       "2711            0        0               0  \n",
       "9469            0        0               0  \n",
       "7189            0        0               0  \n",
       "8706            0        0               0  \n",
       "2814            0        0               0  \n",
       "\n",
       "[16090 rows x 14 columns]"
      ]
     },
     "execution_count": 91,
     "metadata": {},
     "output_type": "execute_result"
    }
   ],
   "source": [
    "new_df"
   ]
  },
  {
   "cell_type": "code",
   "execution_count": 92,
   "metadata": {},
   "outputs": [
    {
     "data": {
      "text/plain": [
       "not.fully.paid       1.000000\n",
       "int.rate             0.224811\n",
       "fico                 0.214893\n",
       "credit.policy        0.190425\n",
       "inq.last.6mths       0.169690\n",
       "revol.util           0.113486\n",
       "pub.rec              0.066881\n",
       "installment          0.066349\n",
       "revol.bal            0.061645\n",
       "purpose              0.059792\n",
       "dti                  0.058692\n",
       "log.annual.inc       0.046833\n",
       "days.with.cr.line    0.036720\n",
       "delinq.2yrs          0.016890\n",
       "Name: not.fully.paid, dtype: float64"
      ]
     },
     "execution_count": 92,
     "metadata": {},
     "output_type": "execute_result"
    }
   ],
   "source": [
    "new_df.corr().abs()['not.fully.paid'].sort_values(ascending=False)"
   ]
  },
  {
   "cell_type": "code",
   "execution_count": 93,
   "metadata": {},
   "outputs": [
    {
     "data": {
      "text/plain": [
       "<AxesSubplot:>"
      ]
     },
     "execution_count": 93,
     "metadata": {},
     "output_type": "execute_result"
    },
    {
     "data": {
      "image/png": "[encoded data removed]",
      "text/plain": [
       "<Figure size 792x504 with 2 Axes>"
      ]
     },
     "metadata": {
      "needs_background": "light"
     },
     "output_type": "display_data"
    }
   ],
   "source": [
    "plt.figure(figsize=(11,7))\n",
    "sns.heatmap(new_df.corr(), annot=True)"
   ]
  },
  {
   "cell_type": "code",
   "execution_count": 94,
   "metadata": {},
   "outputs": [],
   "source": [
    "X=new_df[['int.rate','fico','credit.policy','inq.last.6mths','revol.util','installment','purpose','dti','pub.rec']]"
   ]
  },
  {
   "cell_type": "code",
   "execution_count": 95,
   "metadata": {},
   "outputs": [],
   "source": [
    "y=new_df[['not.fully.paid']]"
   ]
  },
  {
   "cell_type": "code",
   "execution_count": 96,
   "metadata": {},
   "outputs": [],
   "source": [
    "from sklearn.model_selection import train_test_split\n",
    "\n",
    "X_train, X_test, y_train, y_test = train_test_split(X,y, test_size=0.2, random_state=10)"
   ]
  },
  {
   "cell_type": "code",
   "execution_count": 97,
   "metadata": {},
   "outputs": [],
   "source": [
    "from sklearn.preprocessing import StandardScaler\n",
    "\n",
    "sc = StandardScaler()\n",
    "X_train=sc.fit_transform(X_train)\n",
    "X_test=sc.transform(X_test)"
   ]
  },
  {
   "cell_type": "markdown",
   "metadata": {},
   "source": [
    "### Apply Model Building-ANN"
   ]
  },
  {
   "cell_type": "code",
   "execution_count": 98,
   "metadata": {},
   "outputs": [],
   "source": [
    "from keras.models import Sequential\n",
    "from keras.layers import Dense, Dropout\n",
    "from keras.callbacks import EarlyStopping"
   ]
  },
  {
   "cell_type": "code",
   "execution_count": 99,
   "metadata": {},
   "outputs": [],
   "source": [
    "model = Sequential()\n",
    "model.add(Dense(19, activation='relu', input_shape=[9]))\n",
    "model.add(Dropout(0.3))\n",
    "model.add(Dense(10, activation='relu',))\n",
    "model.add(Dropout(0.3))\n",
    "# output layer\n",
    "model.add(Dense(1, activation='sigmoid'))"
   ]
  },
  {
   "cell_type": "code",
   "execution_count": 100,
   "metadata": {},
   "outputs": [],
   "source": [
    "# compile the model\n",
    "model.compile(optimizer='adam', loss='binary_crossentropy', metrics=['accuracy'])"
   ]
  },
  {
   "cell_type": "code",
   "execution_count": 101,
   "metadata": {},
   "outputs": [
    {
     "name": "stdout",
     "output_type": "stream",
     "text": [
      "Model: \"sequential_1\"\n",
      "_________________________________________________________________\n",
      " Layer (type)                Output Shape              Param #   \n",
      "=================================================================\n",
      " dense_3 (Dense)             (None, 19)                190       \n",
      "                                                                 \n",
      " dropout_2 (Dropout)         (None, 19)                0         \n",
      "                                                                 \n",
      " dense_4 (Dense)             (None, 10)                200       \n",
      "                                                                 \n",
      " dropout_3 (Dropout)         (None, 10)                0         \n",
      "                                                                 \n",
      " dense_5 (Dense)             (None, 1)                 11        \n",
      "                                                                 \n",
      "=================================================================\n",
      "Total params: 401\n",
      "Trainable params: 401\n",
      "Non-trainable params: 0\n",
      "_________________________________________________________________\n"
     ]
    }
   ],
   "source": [
    "model.summary()"
   ]
  },
  {
   "cell_type": "code",
   "execution_count": 102,
   "metadata": {},
   "outputs": [],
   "source": [
    "early_stop = EarlyStopping(monitor='val_loss', mode='min', patience=10)"
   ]
  },
  {
   "cell_type": "code",
   "execution_count": 103,
   "metadata": {},
   "outputs": [
    {
     "name": "stdout",
     "output_type": "stream",
     "text": [
      "Epoch 1/50\n",
      "51/51 [==============================] - 1s 4ms/step - loss: 0.7499 - accuracy: 0.5007 - val_loss: 0.6855 - val_accuracy: 0.5510\n",
      "Epoch 2/50\n",
      "51/51 [==============================] - 0s 2ms/step - loss: 0.6980 - accuracy: 0.5412 - val_loss: 0.6695 - val_accuracy: 0.5799\n",
      "Epoch 3/50\n",
      "51/51 [==============================] - 0s 2ms/step - loss: 0.6781 - accuracy: 0.5699 - val_loss: 0.6631 - val_accuracy: 0.5932\n",
      "Epoch 4/50\n",
      "51/51 [==============================] - 0s 2ms/step - loss: 0.6744 - accuracy: 0.5771 - val_loss: 0.6593 - val_accuracy: 0.5985\n",
      "Epoch 5/50\n",
      "51/51 [==============================] - 0s 2ms/step - loss: 0.6688 - accuracy: 0.5823 - val_loss: 0.6572 - val_accuracy: 0.6019\n",
      "Epoch 6/50\n",
      "51/51 [==============================] - 0s 2ms/step - loss: 0.6672 - accuracy: 0.5831 - val_loss: 0.6555 - val_accuracy: 0.5985\n",
      "Epoch 7/50\n",
      "51/51 [==============================] - 0s 2ms/step - loss: 0.6635 - accuracy: 0.5878 - val_loss: 0.6541 - val_accuracy: 0.6013\n",
      "Epoch 8/50\n",
      "51/51 [==============================] - 0s 2ms/step - loss: 0.6616 - accuracy: 0.5909 - val_loss: 0.6539 - val_accuracy: 0.5988\n",
      "Epoch 9/50\n",
      "51/51 [==============================] - 0s 2ms/step - loss: 0.6590 - accuracy: 0.5921 - val_loss: 0.6527 - val_accuracy: 0.5991\n",
      "Epoch 10/50\n",
      "51/51 [==============================] - 0s 2ms/step - loss: 0.6585 - accuracy: 0.5974 - val_loss: 0.6521 - val_accuracy: 0.6035\n",
      "Epoch 11/50\n",
      "51/51 [==============================] - 0s 2ms/step - loss: 0.6581 - accuracy: 0.5909 - val_loss: 0.6519 - val_accuracy: 0.6025\n",
      "Epoch 12/50\n",
      "51/51 [==============================] - 0s 2ms/step - loss: 0.6563 - accuracy: 0.5991 - val_loss: 0.6513 - val_accuracy: 0.5998\n",
      "Epoch 13/50\n",
      "51/51 [==============================] - 0s 2ms/step - loss: 0.6524 - accuracy: 0.6022 - val_loss: 0.6506 - val_accuracy: 0.6019\n",
      "Epoch 14/50\n",
      "51/51 [==============================] - 0s 2ms/step - loss: 0.6556 - accuracy: 0.5989 - val_loss: 0.6511 - val_accuracy: 0.6050\n",
      "Epoch 15/50\n",
      "51/51 [==============================] - 0s 2ms/step - loss: 0.6539 - accuracy: 0.6027 - val_loss: 0.6509 - val_accuracy: 0.6050\n",
      "Epoch 16/50\n",
      "51/51 [==============================] - 0s 2ms/step - loss: 0.6533 - accuracy: 0.6043 - val_loss: 0.6503 - val_accuracy: 0.6050\n",
      "Epoch 17/50\n",
      "51/51 [==============================] - 0s 2ms/step - loss: 0.6537 - accuracy: 0.5984 - val_loss: 0.6504 - val_accuracy: 0.6025\n",
      "Epoch 18/50\n",
      "51/51 [==============================] - 0s 2ms/step - loss: 0.6544 - accuracy: 0.6017 - val_loss: 0.6501 - val_accuracy: 0.6010\n",
      "Epoch 19/50\n",
      "51/51 [==============================] - 0s 2ms/step - loss: 0.6523 - accuracy: 0.6071 - val_loss: 0.6505 - val_accuracy: 0.6010\n",
      "Epoch 20/50\n",
      "51/51 [==============================] - 0s 2ms/step - loss: 0.6508 - accuracy: 0.6043 - val_loss: 0.6498 - val_accuracy: 0.6032\n",
      "Epoch 21/50\n",
      "51/51 [==============================] - 0s 2ms/step - loss: 0.6521 - accuracy: 0.6023 - val_loss: 0.6498 - val_accuracy: 0.6022\n",
      "Epoch 22/50\n",
      "51/51 [==============================] - 0s 2ms/step - loss: 0.6504 - accuracy: 0.6046 - val_loss: 0.6492 - val_accuracy: 0.6035\n",
      "Epoch 23/50\n",
      "51/51 [==============================] - 0s 2ms/step - loss: 0.6501 - accuracy: 0.6057 - val_loss: 0.6490 - val_accuracy: 0.6032\n",
      "Epoch 24/50\n",
      "51/51 [==============================] - 0s 2ms/step - loss: 0.6502 - accuracy: 0.6065 - val_loss: 0.6490 - val_accuracy: 0.5988\n",
      "Epoch 25/50\n",
      "51/51 [==============================] - 0s 2ms/step - loss: 0.6521 - accuracy: 0.6114 - val_loss: 0.6495 - val_accuracy: 0.6025\n",
      "Epoch 26/50\n",
      "51/51 [==============================] - 0s 2ms/step - loss: 0.6488 - accuracy: 0.6134 - val_loss: 0.6486 - val_accuracy: 0.6007\n",
      "Epoch 27/50\n",
      "51/51 [==============================] - 0s 2ms/step - loss: 0.6470 - accuracy: 0.6127 - val_loss: 0.6481 - val_accuracy: 0.6041\n",
      "Epoch 28/50\n",
      "51/51 [==============================] - 0s 2ms/step - loss: 0.6492 - accuracy: 0.6082 - val_loss: 0.6487 - val_accuracy: 0.6025\n",
      "Epoch 29/50\n",
      "51/51 [==============================] - 0s 2ms/step - loss: 0.6477 - accuracy: 0.6099 - val_loss: 0.6479 - val_accuracy: 0.6044\n",
      "Epoch 30/50\n",
      "51/51 [==============================] - 0s 2ms/step - loss: 0.6497 - accuracy: 0.6088 - val_loss: 0.6483 - val_accuracy: 0.6050\n",
      "Epoch 31/50\n",
      "51/51 [==============================] - 0s 2ms/step - loss: 0.6486 - accuracy: 0.6134 - val_loss: 0.6485 - val_accuracy: 0.6025\n",
      "Epoch 32/50\n",
      "51/51 [==============================] - 0s 2ms/step - loss: 0.6461 - accuracy: 0.6103 - val_loss: 0.6481 - val_accuracy: 0.6029\n",
      "Epoch 33/50\n",
      "51/51 [==============================] - 0s 2ms/step - loss: 0.6469 - accuracy: 0.6097 - val_loss: 0.6479 - val_accuracy: 0.6060\n",
      "Epoch 34/50\n",
      "51/51 [==============================] - 0s 2ms/step - loss: 0.6488 - accuracy: 0.6122 - val_loss: 0.6479 - val_accuracy: 0.6041\n",
      "Epoch 35/50\n",
      "51/51 [==============================] - 0s 2ms/step - loss: 0.6477 - accuracy: 0.6133 - val_loss: 0.6478 - val_accuracy: 0.6019\n",
      "Epoch 36/50\n",
      "51/51 [==============================] - 0s 2ms/step - loss: 0.6464 - accuracy: 0.6144 - val_loss: 0.6476 - val_accuracy: 0.6035\n",
      "Epoch 37/50\n",
      "51/51 [==============================] - 0s 2ms/step - loss: 0.6474 - accuracy: 0.6151 - val_loss: 0.6475 - val_accuracy: 0.6069\n",
      "Epoch 38/50\n",
      "51/51 [==============================] - 0s 2ms/step - loss: 0.6473 - accuracy: 0.6181 - val_loss: 0.6470 - val_accuracy: 0.6078\n",
      "Epoch 39/50\n",
      "51/51 [==============================] - 0s 2ms/step - loss: 0.6449 - accuracy: 0.6165 - val_loss: 0.6469 - val_accuracy: 0.6060\n",
      "Epoch 40/50\n",
      "51/51 [==============================] - 0s 2ms/step - loss: 0.6459 - accuracy: 0.6144 - val_loss: 0.6467 - val_accuracy: 0.6100\n",
      "Epoch 41/50\n",
      "51/51 [==============================] - 0s 2ms/step - loss: 0.6488 - accuracy: 0.6167 - val_loss: 0.6471 - val_accuracy: 0.6088\n",
      "Epoch 42/50\n",
      "51/51 [==============================] - 0s 2ms/step - loss: 0.6476 - accuracy: 0.6171 - val_loss: 0.6469 - val_accuracy: 0.6097\n",
      "Epoch 43/50\n",
      "51/51 [==============================] - 0s 2ms/step - loss: 0.6453 - accuracy: 0.6214 - val_loss: 0.6466 - val_accuracy: 0.6100\n",
      "Epoch 44/50\n",
      "51/51 [==============================] - 0s 2ms/step - loss: 0.6462 - accuracy: 0.6181 - val_loss: 0.6467 - val_accuracy: 0.6128\n",
      "Epoch 45/50\n",
      "51/51 [==============================] - 0s 2ms/step - loss: 0.6452 - accuracy: 0.6182 - val_loss: 0.6463 - val_accuracy: 0.6119\n",
      "Epoch 46/50\n",
      "51/51 [==============================] - 0s 2ms/step - loss: 0.6430 - accuracy: 0.6187 - val_loss: 0.6461 - val_accuracy: 0.6088\n",
      "Epoch 47/50\n",
      "51/51 [==============================] - 0s 2ms/step - loss: 0.6455 - accuracy: 0.6148 - val_loss: 0.6464 - val_accuracy: 0.6091\n",
      "Epoch 48/50\n",
      "51/51 [==============================] - 0s 2ms/step - loss: 0.6471 - accuracy: 0.6145 - val_loss: 0.6470 - val_accuracy: 0.6066\n",
      "Epoch 49/50\n",
      "51/51 [==============================] - 0s 2ms/step - loss: 0.6439 - accuracy: 0.6231 - val_loss: 0.6464 - val_accuracy: 0.6057\n",
      "Epoch 50/50\n",
      "51/51 [==============================] - 0s 2ms/step - loss: 0.6465 - accuracy: 0.6189 - val_loss: 0.6465 - val_accuracy: 0.6085\n"
     ]
    },
    {
     "data": {
      "text/plain": [
       "<keras.callbacks.History at 0x2281d148370>"
      ]
     },
     "execution_count": 103,
     "metadata": {},
     "output_type": "execute_result"
    }
   ],
   "source": [
    "model.fit(X_train,y_train,\n",
    "          epochs=50,\n",
    "          batch_size=256,\n",
    "          validation_data=(X_test,y_test),\n",
    "          callbacks=early_stop\n",
    "          )"
   ]
  },
  {
   "cell_type": "code",
   "execution_count": null,
   "metadata": {},
   "outputs": [],
   "source": [
    "sns.lineplot()"
   ]
  },
  {
   "cell_type": "code",
   "execution_count": 107,
   "metadata": {},
   "outputs": [
    {
     "name": "stdout",
     "output_type": "stream",
     "text": [
      "101/101 [==============================] - 0s 937us/step\n"
     ]
    }
   ],
   "source": [
    "predictions = (model.predict(X_test) > 0.5).astype('int64')"
   ]
  },
  {
   "cell_type": "code",
   "execution_count": 108,
   "metadata": {},
   "outputs": [
    {
     "data": {
      "text/plain": [
       "array([[1],\n",
       "       [1],\n",
       "       [1],\n",
       "       ...,\n",
       "       [1],\n",
       "       [1],\n",
       "       [1]], dtype=int64)"
      ]
     },
     "execution_count": 108,
     "metadata": {},
     "output_type": "execute_result"
    }
   ],
   "source": [
    "predictions"
   ]
  },
  {
   "cell_type": "code",
   "execution_count": 110,
   "metadata": {},
   "outputs": [],
   "source": [
    "from sklearn.metrics import accuracy_score, confusion_matrix, classification_report"
   ]
  },
  {
   "cell_type": "code",
   "execution_count": 111,
   "metadata": {},
   "outputs": [
    {
     "name": "stdout",
     "output_type": "stream",
     "text": [
      "101/101 [==============================] - 0s 987us/step - loss: 0.0000e+00 - accuracy: 0.0000e+00\n",
      "[0.0, 0.0]\n"
     ]
    }
   ],
   "source": [
    "score = model.evaluate(X_test,)\n",
    "print(score)"
   ]
  },
  {
   "cell_type": "code",
   "execution_count": 112,
   "metadata": {},
   "outputs": [
    {
     "data": {
      "text/plain": [
       "0.6084524549409571"
      ]
     },
     "execution_count": 112,
     "metadata": {},
     "output_type": "execute_result"
    }
   ],
   "source": [
    "accuracy_score(y_test,predictions)"
   ]
  },
  {
   "cell_type": "code",
   "execution_count": 113,
   "metadata": {},
   "outputs": [
    {
     "name": "stdout",
     "output_type": "stream",
     "text": [
      "              precision    recall  f1-score   support\n",
      "\n",
      "           0       0.63      0.52      0.57      1596\n",
      "           1       0.59      0.70      0.64      1622\n",
      "\n",
      "    accuracy                           0.61      3218\n",
      "   macro avg       0.61      0.61      0.60      3218\n",
      "weighted avg       0.61      0.61      0.61      3218\n",
      "\n"
     ]
    }
   ],
   "source": [
    "print(classification_report(y_test,predictions))"
   ]
  },
  {
   "cell_type": "code",
   "execution_count": 114,
   "metadata": {},
   "outputs": [],
   "source": [
    "model.save('model1.h5')"
   ]
  },
  {
   "cell_type": "code",
   "execution_count": 116,
   "metadata": {},
   "outputs": [],
   "source": [
    "!pip install keras-tuner -q"
   ]
  },
  {
   "cell_type": "code",
   "execution_count": 127,
   "metadata": {},
   "outputs": [],
   "source": [
    "from keras.layers import BatchNormalization"
   ]
  },
  {
   "cell_type": "code",
   "execution_count": 134,
   "metadata": {},
   "outputs": [],
   "source": [
    "import keras.optimizers"
   ]
  },
  {
   "cell_type": "code",
   "execution_count": 135,
   "metadata": {},
   "outputs": [],
   "source": [
    "def build_model(hp):\n",
    "  model=Sequential()\n",
    "  #first hidden layer\n",
    "  model.add(Dense(units=hp.Int('units',min_value=32, max_value=1024,step=16),\n",
    "                  activation=hp.Choice('activation',['relu','tanh']),input_shape=[9]))\n",
    "  model.add(BatchNormalization())\n",
    "  model.add(Dropout(hp.Float('rate',min_value=0.1,max_value=0.5,step=0.1)))\n",
    "  #second hidden layer\n",
    "  model.add(Dense(units=hp.Int('units',min_value=32, max_value=1024,step=16),\n",
    "                  activation=hp.Choice('activation',['relu','tanh'])))\n",
    "  model.add(BatchNormalization())\n",
    "  model.add(Dropout(hp.Float('rate',min_value=0.1,max_value=0.5,step=0.1)))\n",
    "  #Third hidden layer\n",
    "  model.add(Dense(units=hp.Int('units',min_value=32, max_value=1024,step=16),\n",
    "                  activation=hp.Choice('activation',['relu','tanh'])))\n",
    "  model.add(BatchNormalization())\n",
    "  model.add(Dropout(hp.Float('rate',min_value=0.1,max_value=0.5,step=0.1)))\n",
    "\n",
    "   #output layer\n",
    "  model.add(Dense(1,activation='sigmoid'))\n",
    "  learning_rate=hp.Float('learning_rate',min_value=0.001,max_value=0.1,step=0.01)\n",
    "  # compile the model\n",
    "  model.compile(loss='binary_crossentropy',\n",
    "                optimizer=keras.optimizers.Adam(learning_rate),\n",
    "                metrics=['accuracy'])\n",
    "  return model"
   ]
  },
  {
   "cell_type": "code",
   "execution_count": 129,
   "metadata": {},
   "outputs": [],
   "source": [
    "import keras_tuner as kt"
   ]
  },
  {
   "cell_type": "code",
   "execution_count": 136,
   "metadata": {},
   "outputs": [
    {
     "data": {
      "text/plain": [
       "<keras.engine.sequential.Sequential at 0x2281e9a0370>"
      ]
     },
     "execution_count": 136,
     "metadata": {},
     "output_type": "execute_result"
    }
   ],
   "source": [
    "build_model(kt.HyperParameters())"
   ]
  },
  {
   "cell_type": "code",
   "execution_count": 140,
   "metadata": {},
   "outputs": [],
   "source": [
    "rtuner=kt.RandomSearch(hypermodel=build_model,\n",
    "                       objective='val_accuracy',\n",
    "                       max_trials=3,\n",
    "                       executions_per_trial=2,\n",
    "                       overwrite=True,\n",
    "                       )"
   ]
  },
  {
   "cell_type": "code",
   "execution_count": 141,
   "metadata": {},
   "outputs": [
    {
     "name": "stdout",
     "output_type": "stream",
     "text": [
      "INFO:tensorflow:Oracle triggered exit\n"
     ]
    }
   ],
   "source": [
    "rtuner.search(X_train,y_train,epochs=4,validation_data=(X_test,y_test), verbose=0,)"
   ]
  },
  {
   "cell_type": "code",
   "execution_count": null,
   "metadata": {},
   "outputs": [],
   "source": []
  }
 ],
 "metadata": {
  "kernelspec": {
   "display_name": "Python 3.10.4 64-bit",
   "language": "python",
   "name": "python3"
  },
  "language_info": {
   "codemirror_mode": {
    "name": "ipython",
    "version": 3
   },
   "file_extension": ".py",
   "mimetype": "text/x-python",
   "name": "python",
   "nbconvert_exporter": "python",
   "pygments_lexer": "ipython3",
   "version": "3.10.4"
  },
  "orig_nbformat": 4,
  "vscode": {
   "interpreter": {
    "hash": "60fd1236fde3bd91223876c874bbb771352f2d0e5145781d173cde8778815294"
   }
  }
 },
 "nbformat": 4,
 "nbformat_minor": 2
}

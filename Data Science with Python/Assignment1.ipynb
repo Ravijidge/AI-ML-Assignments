{
 "cells": [
  {
   "cell_type": "markdown",
   "id": "422b72e3",
   "metadata": {},
   "source": [
    "# Comcast Telecom Consumer Complaints\n",
    "DESCRIPTION\n",
    "\n",
    "Comcast is an American global telecommunication company. The firm has been providing terrible customer service. They continue to fall short despite repeated promises to improve. Only last month (October 2016) the authority fined them a $2.3 million, after receiving over 1000 consumer complaints.\n",
    "The existing database will serve as a repository of public customer complaints filed against Comcast.\n",
    "It will help to pin down what is wrong with Comcast's customer service."
   ]
  },
  {
   "cell_type": "markdown",
   "id": "5b68c135",
   "metadata": {},
   "source": [
    "# Import required modules"
   ]
  },
  {
   "cell_type": "code",
   "execution_count": null,
   "id": "02c98b51",
   "metadata": {},
   "outputs": [],
   "source": [
    "import pandas as pd\n",
    "%matplotlib inline"
   ]
  },
  {
   "cell_type": "markdown",
   "id": "020b9aa6",
   "metadata": {},
   "source": [
    "# Import data into python"
   ]
  },
  {
   "cell_type": "code",
   "execution_count": null,
   "id": "80a33d33",
   "metadata": {},
   "outputs": [],
   "source": [
    "data_filepath = '.\\\\resources\\\\Comcast_telecom_complaints_data.csv'\n",
    "df = pd.read_csv(data_filepath)\n",
    "df.head()"
   ]
  },
  {
   "cell_type": "markdown",
   "id": "357c4cdc",
   "metadata": {},
   "source": [
    "# Trend chart for the number of complaints at monthly levels"
   ]
  },
  {
   "cell_type": "code",
   "execution_count": null,
   "id": "47742325",
   "metadata": {},
   "outputs": [],
   "source": [
    "# Convert 'Date' column to datetime series\n",
    "df['Date'] = pd.to_datetime(df['Date'], format=r'%d-%m-%y')"
   ]
  },
  {
   "cell_type": "code",
   "execution_count": null,
   "id": "a4d337d7",
   "metadata": {},
   "outputs": [],
   "source": [
    "# First add a new column named 'Month'\n",
    "df['Month'] = df['Date'].dt.month\n",
    "# Plotting graph\n",
    "df['Month'].value_counts().sort_index().plot(kind='line', xlabel='Month', ylabel='Complaints', title='Monthly Trend Chart', grid=True, figsize=(20, 10))"
   ]
  },
  {
   "cell_type": "code",
   "execution_count": null,
   "id": "2434722d",
   "metadata": {},
   "outputs": [],
   "source": [
    "df['Month'].value_counts().sort_values().tail(1)\n",
    "# Month of June have most complaints registered which is 1046"
   ]
  },
  {
   "cell_type": "markdown",
   "id": "c62e62c8",
   "metadata": {},
   "source": [
    "# Trend chart for the number of complaints at daily levels"
   ]
  },
  {
   "cell_type": "code",
   "execution_count": null,
   "id": "33389941",
   "metadata": {},
   "outputs": [],
   "source": [
    "# Plotting graph\n",
    "df['Date'].value_counts().sort_index().plot(kind='line', xlabel='Day', ylabel='Complaints', title='Daily Trend Chart', grid=True, figsize=(20, 10))"
   ]
  },
  {
   "cell_type": "code",
   "execution_count": null,
   "id": "efb29c2b",
   "metadata": {},
   "outputs": [],
   "source": [
    "df['Date'].value_counts().sort_values().tail(1)\n",
    "# 2015-06-24 had most complaints registered which is 218"
   ]
  },
  {
   "cell_type": "markdown",
   "id": "47af7387",
   "metadata": {},
   "source": [
    "# Table with the frequency of complaint types"
   ]
  },
  {
   "cell_type": "code",
   "execution_count": null,
   "id": "d2a555e9",
   "metadata": {},
   "outputs": [],
   "source": [
    "# convert complaints to lower case\n",
    "complaint_types_table = df['Customer Complaint'].str.lower().value_counts().sort_values(ascending=False)\n",
    "complaint_types_table.head()\n",
    "# data cap complaint types are maximum as first result is \"comcast\" which does not make sense"
   ]
  },
  {
   "cell_type": "markdown",
   "id": "6fac8c4b",
   "metadata": {},
   "source": [
    "# Create a new categorical variable with value as Open and Closed"
   ]
  },
  {
   "cell_type": "code",
   "execution_count": null,
   "id": "0d6dde17",
   "metadata": {},
   "outputs": [],
   "source": [
    "# add new column 'Classified Status'\n",
    "# Open & Pending is to be categorized as Open and Closed & Solved is to be categorized as Closed.\n",
    "df['Classified Status'] = df['Status'].apply(lambda arg : 'Open' if arg in ['Open', 'Pending'] else 'Closed')"
   ]
  },
  {
   "cell_type": "markdown",
   "id": "69667747",
   "metadata": {},
   "source": [
    "# Provide state wise status of complaints in a stacked bar chart"
   ]
  },
  {
   "cell_type": "code",
   "execution_count": null,
   "id": "1a73c029",
   "metadata": {},
   "outputs": [],
   "source": [
    "# classify based on status\n",
    "state_vs_status = df[['Ticket #', 'State', 'Classified Status']].groupby(['State', 'Classified Status']).count().unstack(fill_value=0).droplevel(level=0, axis=1)"
   ]
  },
  {
   "cell_type": "code",
   "execution_count": null,
   "id": "2d47e07e",
   "metadata": {
    "scrolled": false
   },
   "outputs": [],
   "source": [
    "# statewise trend of open, closed complaints\n",
    "state_vs_status[['Closed', 'Open']].plot(kind='bar', stacked=True, xlabel='State', ylabel='Complaints', grid=True, figsize=(20, 10), color={'Closed':'green', 'Open':'red'})"
   ]
  },
  {
   "cell_type": "code",
   "execution_count": null,
   "id": "f3d94736",
   "metadata": {
    "scrolled": true
   },
   "outputs": [],
   "source": [
    "# add a columns with total number of complaints\n",
    "state_vs_status['Total'] = state_vs_status[['Closed', 'Open']].sum(axis=1)\n",
    "state_vs_status['Total'].sort_values(ascending=False).head()\n",
    "# Georgia has the maximum number of complaints"
   ]
  },
  {
   "cell_type": "code",
   "execution_count": null,
   "id": "03e3a3c7",
   "metadata": {
    "scrolled": false
   },
   "outputs": [],
   "source": [
    "# statewise %unresolved complaints\n",
    "state_vs_status[r'%unresolved'] = (state_vs_status['Open'] / state_vs_status['Total']) * 100\n",
    "state_vs_status[r'%unresolved'].sort_values(ascending=False).head()\n",
    "# Kansas has the highest % of unresolved complaints which is 50%"
   ]
  },
  {
   "cell_type": "markdown",
   "id": "5750509b",
   "metadata": {},
   "source": [
    "# The percentage of complaints resolved till date, which were received through the Internet and customer care calls"
   ]
  },
  {
   "cell_type": "code",
   "execution_count": null,
   "id": "c2db330a",
   "metadata": {},
   "outputs": [],
   "source": [
    "# create a new dataframe which has Received Via as an index and new status as columns\n",
    "status_vs_receivemode = df[['Received Via','Classified Status', 'Ticket #']].groupby(by=['Received Via', 'Classified Status']).count().unstack(fill_value=0).droplevel(level=0, axis=1)\n",
    "status_vs_receivemode.head()"
   ]
  },
  {
   "cell_type": "code",
   "execution_count": null,
   "id": "94c809e7",
   "metadata": {
    "scrolled": true
   },
   "outputs": [],
   "source": [
    "status_vs_receivemode['Closed']/status_vs_receivemode['Closed'].sum() * 100\n",
    "# Out of total complaints resolved, 50.61% were received via Customer Care Call whereas 49.38% were received via Internet"
   ]
  },
  {
   "cell_type": "code",
   "execution_count": null,
   "id": "cfeb1dff",
   "metadata": {
    "scrolled": true
   },
   "outputs": [],
   "source": [
    "status_vs_receivemode['Closed']/status_vs_receivemode.sum(axis=1) * 100\n",
    "#77.21% of complaints received via Customer Care Call are resolved whereas 76.28% of complaints received via Internet are resolved"
   ]
  }
 ],
 "metadata": {
  "kernelspec": {
   "display_name": "Python 3 (ipykernel)",
   "language": "python",
   "name": "python3"
  },
  "language_info": {
   "codemirror_mode": {
    "name": "ipython",
    "version": 3
   },
   "file_extension": ".py",
   "mimetype": "text/x-python",
   "name": "python",
   "nbconvert_exporter": "python",
   "pygments_lexer": "ipython3",
   "version": "3.10.4"
  },
  "vscode": {
   "interpreter": {
    "hash": "60fd1236fde3bd91223876c874bbb771352f2d0e5145781d173cde8778815294"
   }
  },
  "widgets": {
   "application/vnd.jupyter.widget-state+json": {
    "state": {},
    "version_major": 2,
    "version_minor": 0
   }
  }
 },
 "nbformat": 4,
 "nbformat_minor": 5
}
